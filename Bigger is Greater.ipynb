{
 "cells": [
  {
   "cell_type": "markdown",
   "metadata": {},
   "source": [
    "# Bigger is Greater\n",
    "Lexicographical order is often known as alphabetical order when dealing with strings. A string is greater than another string if it comes later in a lexicographically sorted list.\n",
    "\n",
    "Given a word, create a new word by swapping some or all of its characters. This new word must meet two criteria:\n",
    "\n",
    "- It must be greater than the original word\n",
    "- It must be the smallest word that meets the first condition\n",
    "\n",
    "For example, given the word $$w=abcd, the next largest word is $abdc$.\n",
    "\n",
    "Complete the function biggerIsGreater below to create and return the new string meeting the criteria. If it is not possible, return no answer.\n",
    "\n",
    "## Function Description\n",
    "\n",
    "Complete the biggerIsGreater function in the editor below. It should return the smallest lexicographically higher string possible from the given string or no answer.\n",
    "\n",
    "biggerIsGreater has the following parameter(s):\n",
    "\n",
    "- w: a string"
   ]
  },
  {
   "cell_type": "code",
   "execution_count": 150,
   "metadata": {},
   "outputs": [],
   "source": [
    "def biggerIsGreater(w):\n",
    "    label=findLabel(w)\n",
    "    flag,Kindex=findKeyIndex(label)\n",
    "    if flag:\n",
    "        result=trans(label,Kindex)\n",
    "    else:\n",
    "        result=\"no answer\"\n",
    "    print(result)\n",
    "    return result\n",
    "\n",
    "def findLabel(w):\n",
    "    label=[]\n",
    "    for i in range(len(w)):\n",
    "        label.append(ord(w[i]))\n",
    "    return label\n",
    "\n",
    "def findKeyIndex(label):\n",
    "    flag=False\n",
    "    Kindex=0\n",
    "    for i in range(len(label)-1):\n",
    "        if label[-i-1]>label[-i-2]:\n",
    "            Kindex=len(label)-i-2\n",
    "            flag=True\n",
    "            break\n",
    "    return flag,Kindex\n",
    "\n",
    "def trans(label,Kindex):\n",
    "    newLabel=label[:Kindex]\n",
    "    tlabel=label[Kindex:]\n",
    "    nextChar=min([i for i in tlabel if i>label[Kindex]])\n",
    "    newLabel.append(nextChar)\n",
    "    tlabel.pop(tlabel.index(nextChar))\n",
    "    tlabel.sort()\n",
    "    newLabel+=tlabel\n",
    "    result=''\n",
    "    for i in range(len(newLabel)):\n",
    "       result+=chr(newLabel[i])\n",
    "    return result"
   ]
  },
  {
   "cell_type": "code",
   "execution_count": 151,
   "metadata": {},
   "outputs": [
    {
     "name": "stdout",
     "output_type": "stream",
     "text": [
      "ba\n",
      "ba\n",
      "lmon\n",
      "lmon\n",
      "no answer\n",
      "no answer\n",
      "no answer\n",
      "no answer\n",
      "acbd\n",
      "acbd\n",
      "abdc\n",
      "abdc\n",
      "fedcbabdc\n",
      "fedcbabdc\n"
     ]
    }
   ],
   "source": [
    "print(biggerIsGreater('ab'))\n",
    "print(biggerIsGreater('lmno'))\n",
    "print(biggerIsGreater('dcba'))\n",
    "print(biggerIsGreater('dcbb'))\n",
    "print(biggerIsGreater('abdc'))\n",
    "print(biggerIsGreater('abcd'))\n",
    "print(biggerIsGreater('fedcbabcd'))"
   ]
  }
 ],
 "metadata": {
  "kernelspec": {
   "display_name": "Python 3",
   "language": "python",
   "name": "python3"
  },
  "language_info": {
   "codemirror_mode": {
    "name": "ipython",
    "version": 3
   },
   "file_extension": ".py",
   "mimetype": "text/x-python",
   "name": "python",
   "nbconvert_exporter": "python",
   "pygments_lexer": "ipython3",
   "version": "3.7.1"
  }
 },
 "nbformat": 4,
 "nbformat_minor": 2
}
