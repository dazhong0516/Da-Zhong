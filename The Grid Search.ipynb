{
 "cells": [
  {
   "cell_type": "markdown",
   "metadata": {},
   "source": [
    "# The Grid Search\n",
    "\n",
    "Given a 2D array of digits or grid, try to find the occurrence of a given 2D pattern of digits. For example, consider the following grid:\n",
    "\n",
    "$$\n",
    "  \\begin{matrix}\n",
    "1234567890\\\\  \n",
    "0987654321\\\\\n",
    "1111111111\\\\\n",
    "1111111111\\\\\n",
    "2222222222\n",
    "\\end{matrix} \n",
    "$$\n",
    "\n",
    "Assume we need to look for the following 2D pattern array:\n",
    "\n",
    "$$\n",
    "  \\begin{matrix}\n",
    "876543\\\\ \n",
    "111111\\\\\n",
    "111111\n",
    "\\end{matrix} \n",
    "$$\n",
    "\n",
    "The 2D pattern begins at the second row and the third column of the grid. The pattern is said to be present in the grid.\n",
    "\n",
    "## Function Description\n",
    "\n",
    "Complete the gridSearch function in the editor below. It should return YES if the pattern exists in the grid, or NO otherwise.\n",
    "\n",
    "gridSearch has the following parameter(s):\n",
    "\n",
    "- G: the grid to search, an array of strings\n",
    "- P: the pattern to search for, an array of strings"
   ]
  },
  {
   "cell_type": "code",
   "execution_count": 136,
   "metadata": {},
   "outputs": [],
   "source": [
    "def gridSearch(G, P):\n",
    "    rp=len(P)\n",
    "    cp=len(P[0])\n",
    "    rg=len(G)\n",
    "    cg=len(G[0])\n",
    "    for i in range(rg):\n",
    "        if G[i].find(P[0])>=0 and i+rp-1<rg:\n",
    "            result=check(G[i:i+rp],P)\n",
    "            if result=='YES':\n",
    "                break\n",
    "    return result\n",
    "            \n",
    "def check(Gp,P):\n",
    "    check='NO'\n",
    "    index=findall(Gp[0],P[0])\n",
    "    for ind in index:\n",
    "        if checksq(Gp,ind,P):\n",
    "            check='YES'\n",
    "            break\n",
    "    return check\n",
    "\n",
    "def checksq(Gp,ind,P):\n",
    "    check=True\n",
    "    for i in range(len(Gp)):\n",
    "            if not Gp[i][ind:ind+len(P[0])]==P[i]:\n",
    "                check=False\n",
    "                break\n",
    "    return check\n",
    "    \n",
    "\n",
    "def findall(Gi,P0):\n",
    "    result=[]\n",
    "    for i in range(len(Gi)-len(P0)+1):\n",
    "        if Gi[i:i+len(P0)]==P0:\n",
    "            result.append(i)\n",
    "    return result"
   ]
  },
  {
   "cell_type": "code",
   "execution_count": 137,
   "metadata": {},
   "outputs": [],
   "source": [
    "G=['7283455864',\n",
    "'6731158619',\n",
    "'8988242643',\n",
    "'3830589324',\n",
    "'2229505813',\n",
    "'5633845374',\n",
    "'6473530293',\n",
    "'7053106601',\n",
    "'0834282956',\n",
    "'4607924137']\n",
    "P=['9505',\n",
    "'3845',\n",
    "'3530']"
   ]
  },
  {
   "cell_type": "code",
   "execution_count": 138,
   "metadata": {},
   "outputs": [
    {
     "data": {
      "text/plain": [
       "'YES'"
      ]
     },
     "execution_count": 138,
     "metadata": {},
     "output_type": "execute_result"
    }
   ],
   "source": [
    "gridSearch(G, P)"
   ]
  },
  {
   "cell_type": "code",
   "execution_count": 139,
   "metadata": {},
   "outputs": [],
   "source": [
    "G=['400453592126560',\n",
    "'114213133098692',\n",
    "   '474386082879648',\n",
    "'522356951189169',\n",
    "'887109450487496',\n",
    "'252802633388782',\n",
    "'502771484966748',\n",
    "'075975207693780',\n",
    "'511799789562806',\n",
    "'404007454272504',\n",
    "'549043809916080',\n",
    "'962410809534811',\n",
    "'445893523733475',\n",
    "'768705303214174',\n",
    "'650629270887160']\n",
    "P=['99',\n",
    "'99']"
   ]
  },
  {
   "cell_type": "code",
   "execution_count": 140,
   "metadata": {},
   "outputs": [
    {
     "data": {
      "text/plain": [
       "'NO'"
      ]
     },
     "execution_count": 140,
     "metadata": {},
     "output_type": "execute_result"
    }
   ],
   "source": [
    "gridSearch(G, P)"
   ]
  },
  {
   "cell_type": "code",
   "execution_count": 141,
   "metadata": {},
   "outputs": [
    {
     "data": {
      "text/plain": [
       "'YES'"
      ]
     },
     "execution_count": 141,
     "metadata": {},
     "output_type": "execute_result"
    }
   ],
   "source": [
    "G=['123412',\n",
    "'561212',\n",
    "'123634',\n",
    "'781288']\n",
    "P=['12','34']\n",
    "gridSearch(G, P)"
   ]
  },
  {
   "cell_type": "code",
   "execution_count": null,
   "metadata": {},
   "outputs": [],
   "source": []
  }
 ],
 "metadata": {
  "kernelspec": {
   "display_name": "Python 3",
   "language": "python",
   "name": "python3"
  },
  "language_info": {
   "codemirror_mode": {
    "name": "ipython",
    "version": 3
   },
   "file_extension": ".py",
   "mimetype": "text/x-python",
   "name": "python",
   "nbconvert_exporter": "python",
   "pygments_lexer": "ipython3",
   "version": "3.7.1"
  }
 },
 "nbformat": 4,
 "nbformat_minor": 2
}
