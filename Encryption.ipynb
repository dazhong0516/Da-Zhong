{
 "cells": [
  {
   "cell_type": "markdown",
   "metadata": {},
   "source": [
    "# Encryption\n",
    "An English text needs to be encrypted using the following encryption scheme. \n",
    "\n",
    "First, the spaces are removed from the text. Let $L$ be the length of this text. \n",
    "\n",
    "Then, characters are written into a grid, whose rows and columns have the following constraints:\n",
    "\n",
    "$\\lfloor L\\rfloor\\leq row\\leq col\\leq\\lceil L\\rceil,where\\lfloor x\\rfloor is\\ floor\\ function\\ and\\ \\lceil x\\rceil\\ is\\ ceil\\ function$\n",
    "\n",
    "For example, the sentence $s=if\\ man\\ was\\ meant\\ to\\ stay\\ on\\ the\\ ground\\ god\\ would\\ have\\ given\\ us\\ roots$, after removing spaces is $\\sqrt54$ characters long.  is between $7$ and $8$, so it is written in the form of a grid with 7 rows and 8 columns.\n",
    "\n",
    "ifmanwas  \n",
    "meanttos          \n",
    "tayonthe  \n",
    "groundgo  \n",
    "dwouldha  \n",
    "vegivenu  \n",
    "sroots\n",
    "\n",
    "- Ensure that $rows\\times columns\\geq L$\n",
    "- If multiple grids satisfy the above conditions, choose the one with the minimum area, i.e. $rows\\times columns$.\n",
    "\n",
    "The encoded message is obtained by displaying the characters in a column, inserting a space, and then displaying the next column and inserting a space, and so on. For example, the encoded message for the above rectangle is:\n",
    "\n",
    "imtgdvs fearwer mayoogo anouuio ntnnlvt wttddes aohghn sseoau\n",
    "\n",
    "You will be given a message to encode and print.\n",
    "\n",
    "## Function Description\n",
    "\n",
    "Complete the encryption function in the editor below. It should return a single string composed as described.\n",
    "\n",
    "encryption has the following parameter(s):\n",
    "\n",
    "- s: a string to encrypt\n",
    "\n",
    "## Input Format\n",
    "\n",
    "One line of text, the string $s$\n",
    "\n",
    "## Constraints\n",
    "\n",
    "$1\\leq|s|\\leq 81$ \n",
    " is comprised only of characters in the range ascii[a-z].\n",
    "\n",
    "## Output Format\n",
    "\n",
    "Print the encoded message on one line as described."
   ]
  },
  {
   "cell_type": "code",
   "execution_count": 45,
   "metadata": {},
   "outputs": [],
   "source": [
    "import math"
   ]
  },
  {
   "cell_type": "code",
   "execution_count": 46,
   "metadata": {},
   "outputs": [],
   "source": [
    "def encryption(s):\n",
    "    L=len(s)**0.5\n",
    "    Lfloor=math.floor(L)\n",
    "    Lceil=math.ceil(L)\n",
    "    if Lfloor*Lceil>=len(s):\n",
    "        nrow=Lfloor\n",
    "        ncol=Lceil\n",
    "    else:\n",
    "        nrow=Lceil\n",
    "        ncol=Lceil\n",
    "    print(\"nrol is \",nrow,\", ncol is \",ncol)\n",
    "    mat=[]\n",
    "    for i in range(nrow):\n",
    "        mat.append([])\n",
    "        for j in range(ncol):\n",
    "            if i*ncol+j<len(s):\n",
    "                mat[i].append(s[i*ncol+j])\n",
    "            else:\n",
    "                mat[i].append('')\n",
    "    print(mat)\n",
    "    result=\"\"\n",
    "    for i in range(ncol):\n",
    "        for j in range(nrow):\n",
    "            result=result+mat[j][i]\n",
    "        result=result+\" \"\n",
    "        #print(result)\n",
    "    return result"
   ]
  },
  {
   "cell_type": "code",
   "execution_count": 47,
   "metadata": {},
   "outputs": [],
   "source": [
    "s='haveaniceday'"
   ]
  },
  {
   "cell_type": "code",
   "execution_count": 48,
   "metadata": {},
   "outputs": [
    {
     "name": "stdout",
     "output_type": "stream",
     "text": [
      "nrol is  3 , ncol is  4\n",
      "[['h', 'a', 'v', 'e'], ['a', 'n', 'i', 'c'], ['e', 'd', 'a', 'y']]\n"
     ]
    },
    {
     "data": {
      "text/plain": [
       "'hae and via ecy '"
      ]
     },
     "execution_count": 48,
     "metadata": {},
     "output_type": "execute_result"
    }
   ],
   "source": [
    "encryption(s)"
   ]
  },
  {
   "cell_type": "code",
   "execution_count": 50,
   "metadata": {},
   "outputs": [
    {
     "name": "stdout",
     "output_type": "stream",
     "text": [
      "nrol is  3 , ncol is  3\n",
      "[['c', 'h', 'i'], ['l', 'l', 'o'], ['u', 't', '']]\n"
     ]
    },
    {
     "data": {
      "text/plain": [
       "'clu hlt io '"
      ]
     },
     "execution_count": 50,
     "metadata": {},
     "output_type": "execute_result"
    }
   ],
   "source": [
    "s='chillout'\n",
    "encryption(s)"
   ]
  }
 ],
 "metadata": {
  "kernelspec": {
   "display_name": "Python 3",
   "language": "python",
   "name": "python3"
  },
  "language_info": {
   "codemirror_mode": {
    "name": "ipython",
    "version": 3
   },
   "file_extension": ".py",
   "mimetype": "text/x-python",
   "name": "python",
   "nbconvert_exporter": "python",
   "pygments_lexer": "ipython3",
   "version": "3.7.1"
  }
 },
 "nbformat": 4,
 "nbformat_minor": 2
}
