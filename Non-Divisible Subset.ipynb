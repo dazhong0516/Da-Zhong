{
 "cells": [
  {
   "cell_type": "markdown",
   "metadata": {},
   "source": [
    "# Non-Divisible Subset\n",
    "Given a set of distinct integers, print the size of a maximal subset of $S$ where the sum of any $2$ numbers in $S'$ is not evenly divisible by $k$.\n",
    "\n",
    "For example, the array $S=[19,10,12,10,24,25,22]$ and $k=4$. One of the arrays that can be created is $S'[0]=[10,12,25]$. Another is $S'[1]=[19,22,24]$. After testing all permutations, the maximum length solution array $3$ has elements.\n",
    "\n",
    "## Function Description\n",
    "\n",
    "Complete the nonDivisibleSubset function in the editor below. It should return an integer representing the length of the longest subset of $S$ meeting the criteria.\n",
    "\n",
    "nonDivisibleSubset has the following parameter(s):\n",
    "\n",
    "- S: an array of integers\n",
    "- k: an integer\n",
    "## Input Format\n",
    "\n",
    "The first line contains  space-separated integers,  and , the number of values in  and the non factor. \n",
    "The second line contains  space-separated integers describing , the unique values of the set.\n"
   ]
  },
  {
   "cell_type": "code",
   "execution_count": 177,
   "metadata": {},
   "outputs": [],
   "source": [
    "def nonDivisibleSubset(k, S):\n",
    "    tags=[0]*k\n",
    "    for i in range(len(S)):\n",
    "        tags[S[i]%k]+=1\n",
    "        #print(S[i]%k)\n",
    "    #print(tags)\n",
    "    if round(k/2)==k/2 and tags[round(k/2)]>0:\n",
    "        #print('half exist! result start with 1')\n",
    "        result=1\n",
    "    else:\n",
    "        result=0\n",
    "    for i in range(1,int(k/2)+1):\n",
    "        if not i*2==k:\n",
    "            result+=max(tags[i],tags[k-i])\n",
    "            #print('i=',i,' max=',max(tags[i],tags[k-i]),' result=',result)\n",
    "    if tags[0]>0:\n",
    "        #print('k exist! +1!')\n",
    "        result=result+1\n",
    "    return result"
   ]
  },
  {
   "cell_type": "code",
   "execution_count": 178,
   "metadata": {},
   "outputs": [],
   "source": [
    "S=[1,2,3,4,5,6,7,8,9,10]\n",
    "k=4"
   ]
  },
  {
   "cell_type": "code",
   "execution_count": 179,
   "metadata": {},
   "outputs": [
    {
     "data": {
      "text/plain": [
       "5"
      ]
     },
     "execution_count": 179,
     "metadata": {},
     "output_type": "execute_result"
    }
   ],
   "source": [
    "nonDivisibleSubset(k, S)"
   ]
  },
  {
   "cell_type": "code",
   "execution_count": 180,
   "metadata": {},
   "outputs": [],
   "source": [
    "S=[278,576,496,727,410,124,338,149,209,702,282,718,771,575,436]\n",
    "k=7"
   ]
  },
  {
   "cell_type": "code",
   "execution_count": 181,
   "metadata": {},
   "outputs": [
    {
     "data": {
      "text/plain": [
       "11"
      ]
     },
     "execution_count": 181,
     "metadata": {},
     "output_type": "execute_result"
    }
   ],
   "source": [
    "nonDivisibleSubset(k, S)"
   ]
  },
  {
   "cell_type": "code",
   "execution_count": null,
   "metadata": {},
   "outputs": [],
   "source": []
  }
 ],
 "metadata": {
  "kernelspec": {
   "display_name": "Python 3",
   "language": "python",
   "name": "python3"
  },
  "language_info": {
   "codemirror_mode": {
    "name": "ipython",
    "version": 3
   },
   "file_extension": ".py",
   "mimetype": "text/x-python",
   "name": "python",
   "nbconvert_exporter": "python",
   "pygments_lexer": "ipython3",
   "version": "3.7.1"
  }
 },
 "nbformat": 4,
 "nbformat_minor": 2
}
