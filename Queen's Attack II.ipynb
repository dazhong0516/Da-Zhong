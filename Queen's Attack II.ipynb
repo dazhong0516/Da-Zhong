{
 "cells": [
  {
   "cell_type": "markdown",
   "metadata": {},
   "source": [
    "# Queen's Attack II\n",
    "\n",
    "You will be given a square chess board with one queen and a number of obstacles placed on it. Determine how many squares the queen can attack.\n",
    "\n",
    "A queen is standing on an $n\\times n$ chessboard. The chess board's rows are numbered from $1$ to $n$, going from bottom to top. Its columns are numbered from $1$ to $n$, going from left to right. Each square is referenced by a tuple,$(r,c)$, describing the row,$r$ , and column,$c$ , where the square is located.\n",
    "\n",
    "The queen is standing at position $(r_q,r_c)$. In a single move, she can attack any square in any of the eight directions (left, right, up, down, and the four diagonals). In the diagram below, the green circles denote all the cells the queen can attack from $(4,4)$:"
   ]
  },
  {
   "cell_type": "markdown",
   "metadata": {},
   "source": [
    "![Queen's Attack II](chess1.png)"
   ]
  },
  {
   "cell_type": "markdown",
   "metadata": {},
   "source": [
    "There are obstacles on the chessboard, each preventing the queen from attacking any square beyond it on that path. For example, an obstacle at location $(3,5)$ in the diagram above prevents the queen from attacking cells $(3,5)$, $(2,6)$ and $(1,7)$:"
   ]
  },
  {
   "cell_type": "markdown",
   "metadata": {},
   "source": [
    "![Queen's Attack II](chess2.png)"
   ]
  },
  {
   "cell_type": "markdown",
   "metadata": {},
   "source": [
    "Given the queen's position and the locations of all the obstacles, find and print the number of squares the queen can attack from her position at $(r_q,c_q)$. In the board above, there are $24$ such squares.\n",
    "\n",
    "## Function Description\n",
    "\n",
    "Complete the queensAttack function in the editor below. It should return an integer that describes the number of squares the queen can attack.\n",
    "\n",
    "queensAttack has the following parameters: \n",
    "- n: an integer, the number of rows and columns in the board \n",
    "- k: an integer, the number of obstacles on the board \n",
    "- r_q: integer, the row number of the queen's position \n",
    "- c_q: integer, the column number of the queen's position \n",
    "- obstacles: a two dimensional array of integers where each element is an array of  integers, the row and column of an obstacle"
   ]
  },
  {
   "cell_type": "code",
   "execution_count": 1,
   "metadata": {},
   "outputs": [],
   "source": [
    "def queensAttack(n, k, r_q, c_q, obstacles):\n",
    "    seq=[-1,0,1]\n",
    "    result=0\n",
    "    for i in seq:\n",
    "        for j in seq:\n",
    "            if not(i==0 and j==0):\n",
    "                result+=vector(i, j, n , r_q, c_q, obstacles)\n",
    "    return result\n",
    "def vector(i, j, n , r_q, c_q, obstacles):\n",
    "    Flag=True\n",
    "    result=0\n",
    "    Temp_Pos = [r_q+i,c_q+j]\n",
    "    while Flag:\n",
    "        if check(Temp_Pos, n, obstacles):\n",
    "            result+=1\n",
    "        else:\n",
    "            Flag=False\n",
    "        Temp_Pos = [Temp_Pos[0]+i,Temp_Pos[1]+j]\n",
    "    return result\n",
    "\n",
    "\n",
    "\n",
    "def check(Temp_Pos, n, obstacles):\n",
    "    result = False\n",
    "    if Temp_Pos[0]>0 and Temp_Pos[0]<=n and Temp_Pos[1]>0 and Temp_Pos[1]<=n:\n",
    "        if Temp_Pos not in obstacles:\n",
    "            result=True\n",
    "    return result"
   ]
  },
  {
   "cell_type": "code",
   "execution_count": 6,
   "metadata": {},
   "outputs": [],
   "source": [
    "n=4\n",
    "k=0\n",
    "r_q=4\n",
    "c_q=4\n",
    "obstacles=[]\n"
   ]
  },
  {
   "cell_type": "code",
   "execution_count": 7,
   "metadata": {},
   "outputs": [
    {
     "data": {
      "text/plain": [
       "9"
      ]
     },
     "execution_count": 7,
     "metadata": {},
     "output_type": "execute_result"
    }
   ],
   "source": [
    "queensAttack(n, k, r_q, c_q, obstacles)"
   ]
  },
  {
   "cell_type": "code",
   "execution_count": 8,
   "metadata": {},
   "outputs": [],
   "source": [
    "n=5\n",
    "k=3\n",
    "r_q=4\n",
    "c_q=3\n",
    "obstacles=[[5,5],[4,2],[2,3]]"
   ]
  },
  {
   "cell_type": "code",
   "execution_count": 9,
   "metadata": {},
   "outputs": [
    {
     "data": {
      "text/plain": [
       "10"
      ]
     },
     "execution_count": 9,
     "metadata": {},
     "output_type": "execute_result"
    }
   ],
   "source": [
    "queensAttack(n, k, r_q, c_q, obstacles)"
   ]
  },
  {
   "cell_type": "code",
   "execution_count": null,
   "metadata": {},
   "outputs": [],
   "source": []
  }
 ],
 "metadata": {
  "kernelspec": {
   "display_name": "Python 3",
   "language": "python",
   "name": "python3"
  },
  "language_info": {
   "codemirror_mode": {
    "name": "ipython",
    "version": 3
   },
   "file_extension": ".py",
   "mimetype": "text/x-python",
   "name": "python",
   "nbconvert_exporter": "python",
   "pygments_lexer": "ipython3",
   "version": "3.7.1"
  }
 },
 "nbformat": 4,
 "nbformat_minor": 2
}
