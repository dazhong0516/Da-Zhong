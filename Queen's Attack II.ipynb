{
 "cells": [
  {
   "cell_type": "markdown",
   "metadata": {},
   "source": [
    "# Queen's Attack II\n",
    "\n",
    "You will be given a square chess board with one queen and a number of obstacles placed on it. Determine how many squares the queen can attack.\n",
    "\n",
    "A queen is standing on an $n\\times n$ chessboard. The chess board's rows are numbered from $1$ to $n$, going from bottom to top. Its columns are numbered from $1$ to $n$, going from left to right. Each square is referenced by a tuple,$(r,c)$, describing the row,$r$ , and column,$c$ , where the square is located.\n",
    "\n",
    "The queen is standing at position $(r_q,r_c)$. In a single move, she can attack any square in any of the eight directions (left, right, up, down, and the four diagonals). In the diagram below, the green circles denote all the cells the queen can attack from $(4,4)$:"
   ]
  },
  {
   "cell_type": "markdown",
   "metadata": {},
   "source": [
    "![Queen's Attack II](chess1.png)"
   ]
  },
  {
   "cell_type": "markdown",
   "metadata": {},
   "source": [
    "There are obstacles on the chessboard, each preventing the queen from attacking any square beyond it on that path. For example, an obstacle at location $(3,5)$ in the diagram above prevents the queen from attacking cells $(3,5)$, $(2,6)$ and $(1,7)$:"
   ]
  },
  {
   "cell_type": "markdown",
   "metadata": {},
   "source": [
    "![Queen's Attack II](chess2.png)"
   ]
  },
  {
   "cell_type": "markdown",
   "metadata": {},
   "source": [
    "Given the queen's position and the locations of all the obstacles, find and print the number of squares the queen can attack from her position at $(r_q,c_q)$. In the board above, there are $24$ such squares.\n",
    "\n",
    "## Function Description\n",
    "\n",
    "Complete the queensAttack function in the editor below. It should return an integer that describes the number of squares the queen can attack.\n",
    "\n",
    "queensAttack has the following parameters: \n",
    "- n: an integer, the number of rows and columns in the board \n",
    "- k: an integer, the number of obstacles on the board \n",
    "- r_q: integer, the row number of the queen's position \n",
    "- c_q: integer, the column number of the queen's position \n",
    "- obstacles: a two dimensional array of integers where each element is an array of  integers, the row and column of an obstacle"
   ]
  },
  {
   "cell_type": "code",
   "execution_count": 43,
   "metadata": {},
   "outputs": [],
   "source": [
    "n=4\n",
    "k=0\n",
    "r_q=4\n",
    "c_q=4\n",
    "obstacles=[]\n"
   ]
  },
  {
   "cell_type": "code",
   "execution_count": 44,
   "metadata": {},
   "outputs": [
    {
     "data": {
      "text/plain": [
       "9"
      ]
     },
     "execution_count": 44,
     "metadata": {},
     "output_type": "execute_result"
    }
   ],
   "source": [
    "queensAttack(n, k, r_q, c_q, obstacles)"
   ]
  },
  {
   "cell_type": "code",
   "execution_count": 45,
   "metadata": {},
   "outputs": [],
   "source": [
    "n=5\n",
    "k=3\n",
    "r_q=4\n",
    "c_q=3\n",
    "obstacles=[[5,5],[4,2],[2,3]]"
   ]
  },
  {
   "cell_type": "code",
   "execution_count": 46,
   "metadata": {},
   "outputs": [
    {
     "data": {
      "text/plain": [
       "10"
      ]
     },
     "execution_count": 46,
     "metadata": {},
     "output_type": "execute_result"
    }
   ],
   "source": [
    "queensAttack(n, k, r_q, c_q, obstacles)"
   ]
  },
  {
   "cell_type": "code",
   "execution_count": 47,
   "metadata": {},
   "outputs": [],
   "source": [
    "def queensAttack(n, k, r_q, c_q, obstacles):\n",
    "    ed=init(n, r_q, c_q)\n",
    "    print(ed)\n",
    "    for i in range(k):\n",
    "        ed=renew(ed,obstacles[i],r_q,c_q)\n",
    "    print(ed)\n",
    "    result=sum(ed)\n",
    "    return result\n",
    "\n",
    "def init(n, r_q, c_q):\n",
    "    ed = [0]*8\n",
    "    ed[0] = n-c_q\n",
    "    ed[1] = min(n-r_q, n-c_q)\n",
    "    ed[2] = n-r_q\n",
    "    ed[3] = min(n-r_q, c_q-1)\n",
    "    ed[4] = c_q-1\n",
    "    ed[5] = min(c_q-1, r_q-1)\n",
    "    ed[6] = r_q-1\n",
    "    ed[7] = min(n-c_q,r_q-1)\n",
    "    return ed\n",
    "def renew(ed,ob,r_q,c_q):\n",
    "    dis=max(ed)+1\n",
    "    pos=0\n",
    "    if ob[0]==r_q:\n",
    "        d_r=0\n",
    "        dis=ob[1]-c_q\n",
    "        if dis>0:\n",
    "            pos=0\n",
    "        else:\n",
    "            pos=4        \n",
    "    else:\n",
    "        d_r=ob[0]-r_q\n",
    "    if ob[1]==c_q:\n",
    "        d_c=0\n",
    "        dis=ob[0]-r_q\n",
    "        if dis>0:\n",
    "            pos=2\n",
    "        else:\n",
    "            pos=6\n",
    "        dis=ob[0]-r_q\n",
    "    else:\n",
    "        d_c=ob[1]-c_q\n",
    "    #print(d_r,d_c)\n",
    "    if abs(d_r)==abs(d_c) and abs(d_r)>0:\n",
    "        if d_c>0:\n",
    "            if d_r>0:\n",
    "                pos=1\n",
    "            else:\n",
    "                pos=7\n",
    "        else:\n",
    "            if d_r>0:\n",
    "                pos=3\n",
    "            else:\n",
    "                pos=5\n",
    "        dis=abs(d_c)\n",
    "    ed[pos]=min(ed[pos],abs(dis)-1)\n",
    "    #print(\"renew ed [\",pos+1,\"] as\",ed[pos])\n",
    "    return ed"
   ]
  },
  {
   "cell_type": "code",
   "execution_count": 48,
   "metadata": {},
   "outputs": [],
   "source": [
    "n=88587\n",
    "k=9\n",
    "r_q=20001\n",
    "c_q=20003\n",
    "obstacles=[[20001, 20002],[20001, 20004],[20000, 20003],[20002, 20003],[20000, 20004],[20000, 20002],\n",
    "           [20002, 20004],[20002, 20002],[564, 323]]"
   ]
  },
  {
   "cell_type": "code",
   "execution_count": 49,
   "metadata": {},
   "outputs": [
    {
     "name": "stdout",
     "output_type": "stream",
     "text": [
      "[68584, 68584, 68586, 20002, 20002, 20000, 20000, 20000]\n",
      "0 -1\n",
      "renew ed [ 5 ] as 0\n",
      "0 1\n",
      "renew ed [ 1 ] as 0\n",
      "-1 0\n",
      "renew ed [ 7 ] as 0\n",
      "1 0\n",
      "renew ed [ 3 ] as 0\n",
      "-1 1\n",
      "renew ed [ 8 ] as 0\n",
      "-1 -1\n",
      "renew ed [ 6 ] as 0\n",
      "1 1\n",
      "renew ed [ 2 ] as 0\n",
      "1 -1\n",
      "renew ed [ 4 ] as 0\n",
      "-19437 -19680\n",
      "renew ed [ 1 ] as 0\n",
      "[0, 0, 0, 0, 0, 0, 0, 0]\n"
     ]
    },
    {
     "data": {
      "text/plain": [
       "0"
      ]
     },
     "execution_count": 49,
     "metadata": {},
     "output_type": "execute_result"
    }
   ],
   "source": [
    "queensAttack(n, k, r_q, c_q, obstacles)"
   ]
  },
  {
   "cell_type": "code",
   "execution_count": null,
   "metadata": {},
   "outputs": [],
   "source": []
  }
 ],
 "metadata": {
  "kernelspec": {
   "display_name": "Python 3",
   "language": "python",
   "name": "python3"
  },
  "language_info": {
   "codemirror_mode": {
    "name": "ipython",
    "version": 3
   },
   "file_extension": ".py",
   "mimetype": "text/x-python",
   "name": "python",
   "nbconvert_exporter": "python",
   "pygments_lexer": "ipython3",
   "version": "3.7.1"
  }
 },
 "nbformat": 4,
 "nbformat_minor": 2
}
