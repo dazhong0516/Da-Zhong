{
 "cells": [
  {
   "cell_type": "markdown",
   "metadata": {},
   "source": [
    "# Merge Counting\n",
    "## Version 1"
   ]
  },
  {
   "cell_type": "code",
   "execution_count": 1,
   "metadata": {},
   "outputs": [],
   "source": [
    "def lf(x):\n",
    "    if x>0:\n",
    "        return 1\n",
    "    else:\n",
    "        return 0\n",
    "def merge(lfreq,rfreq):\n",
    "    count=0\n",
    "    lfreq=list(map(lf,lfreq))\n",
    "    minl=min(len(lfreq),len(rfreq))\n",
    "    for l in range(minl):\n",
    "        count+=rfreq[l]*sum(lfreq[l+1:])\n",
    "    return count\n",
    "def combfreq(f1,f2):\n",
    "    minl=min(len(f1),len(f2))\n",
    "    if len(f1)<len(f2):\n",
    "        for i in range(minl):\n",
    "            f2[i]+=f1[i]\n",
    "        freq=f2\n",
    "    else:\n",
    "        for i in range(minl):\n",
    "            f1[i]+=f2[i]\n",
    "        freq=f1\n",
    "    return freq\n",
    "def countHalf(arr):\n",
    "    if len(arr)<2:\n",
    "        count=0\n",
    "        freq=[0]*(arr[0]+1)\n",
    "        freq[-1]=1\n",
    "    else:\n",
    "        mid=int(len(arr)/2)\n",
    "        lfreq,lcount=countHalf(arr[0:mid])\n",
    "        rfreq,rcount=countHalf(arr[mid:])\n",
    "        count=lcount+rcount+merge(lfreq,rfreq)\n",
    "        freq=combfreq(lfreq,rfreq)\n",
    "    print('arr=',arr)\n",
    "    print('freq=',freq,'count=',count)\n",
    "    return freq,count\n",
    "\n",
    "\n",
    "\n",
    "def countInversions(arr):\n",
    "    if len(arr)<2:\n",
    "        return 0\n",
    "    else:\n",
    "        mid=int(len(arr)/2)\n",
    "        lfreq,lcount=countHalf(arr[0:mid])\n",
    "        rfreq,rcount=countHalf(arr[mid:])\n",
    "        count=lcount+rcount+merge(lfreq,rfreq)\n",
    "    return count\n"
   ]
  },
  {
   "cell_type": "markdown",
   "metadata": {},
   "source": [
    "## version 2\n",
    "### Main function \n",
    "\n",
    "1. Read the array, use Split() to split left and right parts. Use Sort() to get the sorted array and the switch counts\n",
    "2. Merge the left array and the right array, get the merged array and the switch counts\n",
    "3. Counts = left_counts + right_counts + merged_counts\n",
    "\n",
    "### Split(arr)\n",
    "\n",
    "If arr has even lenth, then split it by 0 to L/2-1 and L/2 to L-1; If arr has odd lenth, then split it by 0 to (L-1)/2-1 and (L-1)/2 to L-1\n",
    "\n",
    "Return left_array and right_array \n",
    "\n",
    "### Sort(arr)\n",
    "\n",
    "1. If lenth<2, then there is only one number in the array, return array and 0 as count\n",
    "2. If lenth>2, then split the array, calculate the subarray and subcount\n",
    "3. Use Merge() to calculate the merged array and the merged count\n",
    "4. Final count = merged count + leftcount + rightcount. Return merged array and the merged count\n",
    "\n",
    "### Merge(left_arr, right_arr)\n",
    "\n",
    "1. Use two index ir and il to index the current item in left array and right array. Start from 0\n",
    "2. Compare the first item of left and right array, if left one is small, add this item to the arrray and move il forward(il+=1), else add right head and ir+=1.At this time count result should plus len(left array)-il\n",
    "3. Repeat step 2 untill il or ir reach the end of a array.\n",
    "4. If a index has not reach the end, add the remaining array to the end of the result.\n",
    "5. return sorted array result and the count result.\n"
   ]
  },
  {
   "cell_type": "code",
   "execution_count": 2,
   "metadata": {},
   "outputs": [],
   "source": [
    "def Split(arr):\n",
    "    l = len(arr)\n",
    "    larr = arr[:int(l/2)]\n",
    "    rarr = arr[int(l/2):]\n",
    "    return larr, rarr\n",
    "\n",
    "def Merge(l_arr,r_arr):\n",
    "    count=0\n",
    "    array=[]\n",
    "    ir=0\n",
    "    il=0\n",
    "    lr=len(r_arr)\n",
    "    ll=len(l_arr)\n",
    "    #print('ll=',ll,'lr=',lr)\n",
    "    while(1):\n",
    "        #print(il,ir)\n",
    "        if ir>=lr or il>=ll:\n",
    "            break\n",
    "        if l_arr[il]<=r_arr[ir]:\n",
    "            #print('Renew il from',il,'to',il+1)\n",
    "            array+=[l_arr[il]]\n",
    "            il+=1\n",
    "        else:\n",
    "            #print('Renew ir from',ir,'to',ir+1)\n",
    "            count+=ll-il\n",
    "            #print('add count=',ll-il)\n",
    "            array+=[r_arr[ir]]\n",
    "            ir+=1\n",
    "    if il<ll:\n",
    "        #print('Left array remains ',l_arr[il:],', add to the end')\n",
    "        array += l_arr[il:]\n",
    "    if ir<lr:\n",
    "        #print('right array remains ',r_arr[ir:],', add to the end')\n",
    "        array += r_arr[ir:]\n",
    "    return array,count\n",
    "        \n",
    "        \n",
    "\n",
    "def Sort(arr):\n",
    "    if len(arr)<2:\n",
    "        result_arr=arr\n",
    "        result_count=0\n",
    "    else:\n",
    "        larr,rarr = Split(arr)\n",
    "        larr_s, l_count = Sort(larr)\n",
    "        rarr_s, r_count = Sort(rarr)\n",
    "        #print(larr,rarr)\n",
    "        result_arr, M_count = Merge(larr_s,rarr_s)\n",
    "        #print(l_count, r_count, M_count)\n",
    "        result_count = l_count + r_count + M_count\n",
    "    return result_arr, result_count\n",
    "\n",
    "\n",
    "def countInversions(arr):\n",
    "    larr,rarr = Split(arr)\n",
    "    larr_s, l_count = Sort(larr)\n",
    "    rarr_s, r_count = Sort(rarr)\n",
    "    M_arr, M_count = Merge(larr_s,rarr_s)\n",
    "    #print(larr_s,rarr_s)\n",
    "    count= l_count + r_count + M_count\n",
    "    #print(l_count, r_count, M_count)\n",
    "    return count"
   ]
  },
  {
   "cell_type": "code",
   "execution_count": 3,
   "metadata": {},
   "outputs": [],
   "source": [
    "arr=[2,1,3,1,2]"
   ]
  },
  {
   "cell_type": "code",
   "execution_count": 4,
   "metadata": {},
   "outputs": [
    {
     "data": {
      "text/plain": [
       "4"
      ]
     },
     "execution_count": 4,
     "metadata": {},
     "output_type": "execute_result"
    }
   ],
   "source": [
    "countInversions(arr)"
   ]
  }
 ],
 "metadata": {
  "kernelspec": {
   "display_name": "Python 3",
   "language": "python",
   "name": "python3"
  },
  "language_info": {
   "codemirror_mode": {
    "name": "ipython",
    "version": 3
   },
   "file_extension": ".py",
   "mimetype": "text/x-python",
   "name": "python",
   "nbconvert_exporter": "python",
   "pygments_lexer": "ipython3",
   "version": "3.7.1"
  }
 },
 "nbformat": 4,
 "nbformat_minor": 2
}
