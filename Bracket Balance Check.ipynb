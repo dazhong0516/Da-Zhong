{
 "cells": [
  {
   "cell_type": "markdown",
   "metadata": {},
   "source": [
    "This is a coding practice of python, the problem is shown below:\n"
   ]
  },
  {
   "cell_type": "markdown",
   "metadata": {},
   "source": [
    "For a string including different brackets, design a function is_balanced(in_str) to determine if the brackets in the string is balanced, for example:\n",
    "1. \"([{}()])\" is balanced\n",
    "2. \"()[{}[[]\" is not balanced"
   ]
  },
  {
   "cell_type": "markdown",
   "metadata": {},
   "source": [
    "The input of the function is in_str, which is a string\n",
    "<br>The output of the function is Trre or False"
   ]
  },
  {
   "cell_type": "markdown",
   "metadata": {},
   "source": [
    "Firstly, define a function reverse(symble) to generate the reverse bracket"
   ]
  },
  {
   "cell_type": "code",
   "execution_count": 6,
   "metadata": {},
   "outputs": [],
   "source": [
    "def reverse(symbol):\n",
    "    result = symbol\n",
    "    if symbol is \"(\":\n",
    "        result = \")\"\n",
    "    elif symbol  is \"{\":\n",
    "        result = \"}\"\n",
    "    elif symbol is \"[\":\n",
    "        result = \"]\"\n",
    "    elif symbol is \")\":\n",
    "        result = \"(\"\n",
    "    elif symbol  is \"}\":\n",
    "        result = \"{\"\n",
    "    elif symbol is \"]\":\n",
    "        result = \"[\"\n",
    "    return result"
   ]
  },
  {
   "cell_type": "markdown",
   "metadata": {},
   "source": [
    "Then define the main function:\n",
    "    1. Set a stack to store the brackets that are not matched by other bracket. To be convinient, instead of initialize it as a empty      list, I set it with a symbol which is not a bracket( a letter 'a')\n",
    "    2. Read the input and start a loop for each symbol\n",
    "    3. For each symbol, I firstly check if the stack is empty( if it's empty the last symbol will be 'a')\n",
    "      3-1. If the stack is empty, add a symbol to the top of the stack\n",
    "      3-2. If it is not empty, apply reverse() function to check if it match the top symbol in the stack \n",
    "      if they match, delete the top symbol in stack; if not, add the symbol to the top of the stack\n",
    "    4. When the loop ends which means the input has been traversed. I check the stack. If the stack is empty( the top symbol is 'a'), \n",
    "    return teh result as True. Otherwise return False"
   ]
  },
  {
   "cell_type": "code",
   "execution_count": 7,
   "metadata": {},
   "outputs": [
    {
     "name": "stdout",
     "output_type": "stream",
     "text": [
      "Empty stack add (\n",
      "stack is ['(']\n",
      "Not Match!, add  [\n",
      "stack is ['(', '[']\n",
      "Match! Delete  ]\n",
      "stack is ['(']\n",
      "Match! Delete  )\n",
      "stack is []\n",
      "Empty stack add [\n",
      "stack is ['[']\n",
      "Match! Delete  ]\n",
      "stack is []\n",
      "Empty stack add (\n",
      "stack is ['(']\n",
      "Not Match!, add  {\n",
      "stack is ['(', '{']\n",
      "Match! Delete  }\n",
      "stack is ['(']\n",
      "Match! Delete  )\n",
      "stack is []\n",
      "True\n"
     ]
    }
   ],
   "source": [
    "def is_balanced(in_str):\n",
    "    #pass\n",
    "    lenth = len(in_str)\n",
    "    \n",
    "    result = False\n",
    "    stack = ['a']\n",
    "    for i in range(lenth):\n",
    "        if stack==['a']:\n",
    "            stack.append(in_str[i])\n",
    "            print('Empty stack add',in_str[i])\n",
    "        else:\n",
    "            if stack[-1] == reverse(in_str[i]):\n",
    "                print('Match! Delete ',in_str[i])\n",
    "                stack = stack[:-1]\n",
    "            else:\n",
    "                print('Not Match!, add ',in_str[i])\n",
    "                stack.append(in_str[i])\n",
    "        print('stack is',stack[1:])\n",
    "    if stack==['a']:\n",
    "        result=True\n",
    "    return result\n",
    "        \n",
    "print(is_balanced(\"([])[]({})\"))"
   ]
  }
 ],
 "metadata": {
  "kernelspec": {
   "display_name": "Python 3",
   "language": "python",
   "name": "python3"
  },
  "language_info": {
   "codemirror_mode": {
    "name": "ipython",
    "version": 3
   },
   "file_extension": ".py",
   "mimetype": "text/x-python",
   "name": "python",
   "nbconvert_exporter": "python",
   "pygments_lexer": "ipython3",
   "version": "3.7.1"
  }
 },
 "nbformat": 4,
 "nbformat_minor": 2
}
