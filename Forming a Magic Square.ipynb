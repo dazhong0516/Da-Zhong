{
 "cells": [
  {
   "cell_type": "markdown",
   "metadata": {},
   "source": [
    "We define a magic square to be an $n\\times n$ matrix of distinct positive integers from 1 to $n^2$ where the sum of any row, column, or diagonal of length n is always equal to the same number: the magic constant.\n",
    "\n",
    "Given a $3\\times 3$ matrix $s$ of integers in the inclusive range $[1,9]$. We can convert any digit $a$ to any other digit $$b in the range $[1,9]$ at cost of $|a-b|$. Given $s$, convert it into a magic square at minimal cost. Print this cost on a new line.\n",
    "\n",
    "Note: The resulting magic square must contain distinct integers in the inclusive range $[1,9]$."
   ]
  },
  {
   "cell_type": "code",
   "execution_count": 40,
   "metadata": {},
   "outputs": [],
   "source": [
    "s1=[[4,9,2],[3,5,7],[8,1,5]]\n",
    "s2=[[4,8,2],[4,5,7],[6,1,6]]"
   ]
  },
  {
   "cell_type": "code",
   "execution_count": 41,
   "metadata": {},
   "outputs": [],
   "source": [
    "def formingMagicSquare(s):\n",
    "    #potential squares\n",
    "    Pot_Sq=[[[8,3,4],[1,5,9],[6,7,2]],\n",
    "            [[6,1,8],[7,5,3],[2,9,4]],\n",
    "            [[2,7,6],[9,5,1],[4,3,8]],\n",
    "            [[4,9,2],[3,5,7],[8,1,6]],\n",
    "            [[8,1,6],[3,5,7],[4,9,2]],\n",
    "            [[4,3,8],[9,5,1],[2,7,6]],\n",
    "            [[2,9,4],[7,5,3],[6,1,8]],\n",
    "            [[6,7,2],[1,5,9],[8,3,4]]]\n",
    "    result=15*9\n",
    "    for psq in Pot_Sq:\n",
    "        result=min(result,diff(psq,s))\n",
    "    return result"
   ]
  },
  {
   "cell_type": "code",
   "execution_count": 42,
   "metadata": {},
   "outputs": [],
   "source": [
    "def diff(s1,s2):\n",
    "    dif=0\n",
    "    for i in range(3):\n",
    "        for j in range(3):\n",
    "            dif+=abs(s1[i][j]-s2[i][j])\n",
    "    return dif\n",
    "        "
   ]
  },
  {
   "cell_type": "code",
   "execution_count": 43,
   "metadata": {},
   "outputs": [
    {
     "data": {
      "text/plain": [
       "1"
      ]
     },
     "execution_count": 43,
     "metadata": {},
     "output_type": "execute_result"
    }
   ],
   "source": [
    "formingMagicSquare(s1)"
   ]
  },
  {
   "cell_type": "code",
   "execution_count": 44,
   "metadata": {},
   "outputs": [
    {
     "data": {
      "text/plain": [
       "4"
      ]
     },
     "execution_count": 44,
     "metadata": {},
     "output_type": "execute_result"
    }
   ],
   "source": [
    "formingMagicSquare(s2)"
   ]
  }
 ],
 "metadata": {
  "kernelspec": {
   "display_name": "Python 3",
   "language": "python",
   "name": "python3"
  },
  "language_info": {
   "codemirror_mode": {
    "name": "ipython",
    "version": 3
   },
   "file_extension": ".py",
   "mimetype": "text/x-python",
   "name": "python",
   "nbconvert_exporter": "python",
   "pygments_lexer": "ipython3",
   "version": "3.7.1"
  }
 },
 "nbformat": 4,
 "nbformat_minor": 2
}
