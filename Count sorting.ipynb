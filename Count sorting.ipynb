{
 "cells": [
  {
   "cell_type": "markdown",
   "metadata": {},
   "source": [
    "The Question is from hackerank:\n",
    "\n",
    "https://www.hackerrank.com/challenges/fraudulent-activity-notifications/problem?h_l=interview&playlist_slugs%5B%5D=interview-preparation-kit&playlist_slugs%5B%5D=sorting"
   ]
  },
  {
   "cell_type": "markdown",
   "metadata": {},
   "source": [
    "### Version1:\n",
    "works but runtime error:$O(dlog(d))\\times n$"
   ]
  },
  {
   "cell_type": "code",
   "execution_count": 4,
   "metadata": {},
   "outputs": [],
   "source": [
    "def activityNotifications(expenditure, d):\n",
    "    result=0\n",
    "    for day in range(len(expenditure)-d):\n",
    "        win=expenditure[day:day+d]\n",
    "        list.sort(win)\n",
    "        if d%2==0:\n",
    "            med=(win[int(d/2)]+win[int(d/2-1)])/2\n",
    "        else:\n",
    "            med=win[int((d-1)/2)]\n",
    "        if expenditure[day+d]>=2*med:\n",
    "            result+=1\n",
    "    return result"
   ]
  },
  {
   "cell_type": "markdown",
   "metadata": {},
   "source": [
    "### Version 2:\n",
    "Better, still runtime error: $O(dlog(d))+O(n)$"
   ]
  },
  {
   "cell_type": "code",
   "execution_count": 5,
   "metadata": {},
   "outputs": [],
   "source": [
    "ex=[2,3,4,2,3,6,8,4,5]\n",
    "d=5"
   ]
  },
  {
   "cell_type": "code",
   "execution_count": 6,
   "metadata": {},
   "outputs": [],
   "source": [
    "\n",
    "def activityNotifications(expenditure, d):\n",
    "    result=0\n",
    "    win=expenditure[:d]\n",
    "    list.sort(win)\n",
    "    print('win=',win)\n",
    "    #med calculation\n",
    "    if d%2==0:\n",
    "        med=(win[int(d/2)]+win[int(d/2-1)])/2\n",
    "    else: \n",
    "        med=win[int((d-1)/2)]\n",
    "    if expenditure[d]>=2*med:\n",
    "            result+=1\n",
    "    for day in range(1,len(expenditure)-d):\n",
    "        win=renew(win,expenditure[day-1],expenditure[day+d-1])\n",
    "        print('renew win=',win,'pop=',expenditure[day-1],'push=',expenditure[day+d-1])\n",
    "        if d%2==0:\n",
    "            med=(win[int(d/2)]+win[int(d/2-1)])/2\n",
    "        else:\n",
    "            med=win[int((d-1)/2)]\n",
    "        if expenditure[day+d]>=2*med:\n",
    "            result+=1\n",
    "    return result"
   ]
  },
  {
   "cell_type": "code",
   "execution_count": 7,
   "metadata": {},
   "outputs": [],
   "source": [
    "def renew(win,pop,push):\n",
    "    win.pop(win.index(pop))\n",
    "    win.insert(bsearch(win,push),push)\n",
    "    return win\n",
    "    "
   ]
  },
  {
   "cell_type": "code",
   "execution_count": 8,
   "metadata": {},
   "outputs": [],
   "source": [
    "def bsearch(win,p):\n",
    "    ini=0\n",
    "    las=len(win)-1\n",
    "    mid=int((ini+las)/2)\n",
    "    if p<win[ini]:\n",
    "        return ini\n",
    "    elif p>win[las]:\n",
    "        return las+1\n",
    "    while las-ini>1:\n",
    "        if win[mid]<=p:\n",
    "            ini=mid\n",
    "        else:\n",
    "            las=mid\n",
    "        mid=int((ini+las)/2)\n",
    "    return mid+1"
   ]
  },
  {
   "cell_type": "code",
   "execution_count": 9,
   "metadata": {},
   "outputs": [
    {
     "name": "stdout",
     "output_type": "stream",
     "text": [
      "win= [2, 2, 3, 3, 4]\n",
      "renew win= [2, 3, 3, 4, 6] pop= 2 push= 6\n",
      "renew win= [2, 3, 4, 6, 8] pop= 3 push= 8\n",
      "renew win= [2, 3, 4, 6, 8] pop= 4 push= 4\n"
     ]
    },
    {
     "data": {
      "text/plain": [
       "2"
      ]
     },
     "execution_count": 9,
     "metadata": {},
     "output_type": "execute_result"
    }
   ],
   "source": [
    "activityNotifications(ex, d)"
   ]
  },
  {
   "cell_type": "markdown",
   "metadata": {},
   "source": [
    "### Version 3: count sorting\n",
    "Best when the number in ex is small(<=200 in this case), $O(m/2)+d*(O(m)+O(n))=d*O(M)+d*O(N)$"
   ]
  },
  {
   "cell_type": "code",
   "execution_count": 44,
   "metadata": {},
   "outputs": [],
   "source": [
    "def plus1(x):\n",
    "    x=x+1\n",
    "    return x\n",
    "def min1(x):\n",
    "    return x-1\n",
    "#renew freq, time=(0+m)/2\n",
    "def rf(pop,push,freq):\n",
    "    if pop==push:\n",
    "        pass\n",
    "    elif pop>push:\n",
    "        freq[push:pop]=list(map(plus1,freq[push:pop]))\n",
    "    else:\n",
    "        freq[pop:push]=list(map(min1,freq[pop:push]))\n",
    "    return freq\n",
    "\n",
    "def activityNotifications(expenditure, d):\n",
    "    result=0\n",
    "    freq=[0]*200\n",
    "    #initialize count array,O=M+N\n",
    "    for i in expenditure[:d]:\n",
    "        freq[i]+=1\n",
    "    for i in range(200-1):\n",
    "        freq[i+1]+=freq[i]\n",
    "    for num in range(d,len(expenditure)):\n",
    "        #d is even\n",
    "        if d%2==0:\n",
    "            flag=1\n",
    "            #find the med\n",
    "            for i in range(200):\n",
    "                if freq[i]==d/2 and flag==1:\n",
    "                    med=i\n",
    "                    flag=0\n",
    "                elif freq[i]>d/2:\n",
    "                    if flag==1:\n",
    "                        med=i\n",
    "                        break\n",
    "                    else:\n",
    "                        med=(med+i)/2\n",
    "                        break\n",
    "                else:\n",
    "                    pass\n",
    "            #compare and renew result\n",
    "            if expenditure[num]>=2*med:\n",
    "                result+=1        \n",
    "        #d is odd\n",
    "        else:\n",
    "            for i in range(200):\n",
    "                if freq[i]>=d/2+0.5:\n",
    "                    med=i\n",
    "                    break\n",
    "                else:\n",
    "                    pass\n",
    "            if expenditure[num]>=2*med:\n",
    "                result+=1\n",
    "        #renew freq\n",
    "        freq=rf(expenditure[num-d],expenditure[num],freq)\n",
    "    return result"
   ]
  },
  {
   "cell_type": "code",
   "execution_count": null,
   "metadata": {},
   "outputs": [],
   "source": []
  }
 ],
 "metadata": {
  "kernelspec": {
   "display_name": "Python 3",
   "language": "python",
   "name": "python3"
  },
  "language_info": {
   "codemirror_mode": {
    "name": "ipython",
    "version": 3
   },
   "file_extension": ".py",
   "mimetype": "text/x-python",
   "name": "python",
   "nbconvert_exporter": "python",
   "pygments_lexer": "ipython3",
   "version": "3.7.1"
  }
 },
 "nbformat": 4,
 "nbformat_minor": 2
}
