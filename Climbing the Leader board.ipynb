{
 "cells": [
  {
   "cell_type": "markdown",
   "metadata": {},
   "source": [
    "# Climbing the Leaderboard\n",
    "Alice is playing an arcade game and wants to climb to the top of the leaderboard and wants to track her ranking. The game uses Dense Ranking, so its leaderboard works like this:\n",
    "\n",
    "* The player with the highest score is ranked number 1 on the leaderboard.\n",
    "* Players who have equal scores receive the same ranking number, and the next player(s) receive the immediately following ranking number.\n",
    "\n",
    "For example, the four players on the leaderboard have high scores of 100, 90, 90, 80 and . Those players will have ranks 1, 2, 2, and 3, respectively. If Alice's scores are 70, 80 and 105, her rankings after each game are 4, 3 and 1.\n",
    "\n",
    "## Function Description\n",
    "\n",
    "Complete the climbingLeaderboard function that should return an integer array where each element represents Alice's rank after the  game.\n",
    "\n",
    "climbingLeaderboard has the following parameter(s):\n",
    "\n",
    "* scores: an array of integers that represent leaderboard scores\n",
    "* alice: an array of integers that represent Alice's scores\n",
    "\n",
    "Input Format\n",
    "\n",
    "* The first line contains an integer , the number of players on the leaderboard. \n",
    "* The next line contains  space-separated integers , the leaderboard scores in decreasing order. \n",
    "* The next line contains an integer, , denoting the number games Alice plays. \n",
    "* The last line contains  space-separated integers , the game scores.\n",
    "\n",
    "Output Format\n",
    "\n",
    "Print m integers. The $j^{th}$ integer should indicate Alice's rank $j^{th}$ after playing the  game.\n",
    "\n"
   ]
  },
  {
   "cell_type": "markdown",
   "metadata": {},
   "source": [
    "Firstly define a binary search function to find the ranking of alice basing on an existing ranking list"
   ]
  },
  {
   "cell_type": "code",
   "execution_count": 26,
   "metadata": {},
   "outputs": [],
   "source": [
    "def search(score_list, ranking_list, a_score):\n",
    "    if a_score >=score_list[0]:\n",
    "        rank=1\n",
    "       # print('Top!')\n",
    "    elif a_score ==score_list[-1]:\n",
    "        rank= ranking_list[-1]\n",
    "        #print(\"End!\")\n",
    "    elif a_score <score_list[-1]:\n",
    "        rank= ranking_list[-1]+1\n",
    "        #print(\"End!\")\n",
    "    else:\n",
    "        top=1\n",
    "        end=ranking_list[-1]\n",
    "        mid=round((top+end)/2)\n",
    "        while ranking_list[end-1]-ranking_list[top-1]>1:            \n",
    "            if score_list[mid-1]<a_score:\n",
    "                end=mid\n",
    "                mid=round((end+top)/2)\n",
    "            elif score_list[mid-1]>a_score:\n",
    "                top=mid\n",
    "                mid=round((end+top)/2)\n",
    "            else:\n",
    "                top=mid\n",
    "                end=mid\n",
    "                #Loop ends, rank=rank[mid-1]\n",
    "            #print(top,mid,end)\n",
    "        if score_list[mid-1]>a_score:\n",
    "            rank=mid+1\n",
    "        else:\n",
    "            rank=mid\n",
    "        \n",
    "    return rank"
   ]
  },
  {
   "cell_type": "markdown",
   "metadata": {},
   "source": [
    "Define the main function. \n",
    "1. Firstly generate ranking_list and the score_list to avoid the repeating scores.\n",
    "2. Apply binary search to each score from alice"
   ]
  },
  {
   "cell_type": "code",
   "execution_count": 72,
   "metadata": {},
   "outputs": [],
   "source": [
    "def climbingLeaderboard(scores, alice):\n",
    "    score_list=list(set(scores))\n",
    "    score_list.sort()\n",
    "    score_list.reverse()\n",
    "    ranking_list=list(range(1,len(score_list)+1))\n",
    "    print('ranking_list: ',ranking_list)\n",
    "    print('score_list: ',score_list)    \n",
    "    result=[]\n",
    "    for j in range(len(alice)):\n",
    "        rank=search(score_list,ranking_list,alice[j])\n",
    "        result.append(rank)\n",
    "        print(rank)\n",
    "    return result"
   ]
  },
  {
   "cell_type": "code",
   "execution_count": 73,
   "metadata": {},
   "outputs": [],
   "source": [
    "scores1=[100,100,50,40,40,20,10]\n",
    "alice1=[5,25,50,120]\n",
    "scores2=[100,90,90,80,75,60]\n",
    "alice2=[50,65,77,90,102]"
   ]
  },
  {
   "cell_type": "code",
   "execution_count": 74,
   "metadata": {},
   "outputs": [
    {
     "name": "stdout",
     "output_type": "stream",
     "text": [
      "ranking_list:  [1, 2, 3, 4, 5]\n",
      "score_list:  [100, 50, 40, 20, 10]\n",
      "6\n",
      "4\n",
      "2\n",
      "1\n"
     ]
    },
    {
     "data": {
      "text/plain": [
       "[6, 4, 2, 1]"
      ]
     },
     "execution_count": 74,
     "metadata": {},
     "output_type": "execute_result"
    }
   ],
   "source": [
    "climbingLeaderboard(scores1, alice1)"
   ]
  },
  {
   "cell_type": "code",
   "execution_count": 31,
   "metadata": {},
   "outputs": [
    {
     "name": "stdout",
     "output_type": "stream",
     "text": [
      "ranking_list:  [1, 2, 3, 4]\n",
      "score_list:  [100, 75, 80, 90, 60]\n",
      "5\n",
      "5\n",
      "2\n",
      "2\n",
      "1\n"
     ]
    },
    {
     "data": {
      "text/plain": [
       "[5, 5, 2, 2, 1]"
      ]
     },
     "execution_count": 31,
     "metadata": {},
     "output_type": "execute_result"
    }
   ],
   "source": [
    "climbingLeaderboard(scores2, alice2)"
   ]
  }
 ],
 "metadata": {
  "kernelspec": {
   "display_name": "Python 3",
   "language": "python",
   "name": "python3"
  },
  "language_info": {
   "codemirror_mode": {
    "name": "ipython",
    "version": 3
   },
   "file_extension": ".py",
   "mimetype": "text/x-python",
   "name": "python",
   "nbconvert_exporter": "python",
   "pygments_lexer": "ipython3",
   "version": "3.7.1"
  }
 },
 "nbformat": 4,
 "nbformat_minor": 2
}
