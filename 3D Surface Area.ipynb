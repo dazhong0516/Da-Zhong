{
 "cells": [
  {
   "cell_type": "markdown",
   "metadata": {},
   "source": [
    "Madison, is a little girl who is fond of toys. Her friend Mason works in a toy manufacturing factory. Mason has a 2D board $A$ of size $H\\times W$ with $H$ rows and $W$ columns. The board is divided into cells of size $1\\times 1$ with each cell indicated by it's coordinate $(i,j)$. The cell $(i,j)$ has an integer $A_{ij}$ written on it. To create the toy Mason stacks $A_{ij}$ number of cubes of size $1\\times 1\\times 1$ on the cell $(i,j)$.\n",
    "\n",
    "Given the description of the board showing the values of $A_{ij}$ and that the price of the toy is equal to the 3d surface area find the price of the toy.\n",
    "\n",
    "![3D Surface Area](3D1.png)\n",
    "\n",
    "Print the required answer, i.e the price of the toy, in one line."
   ]
  },
  {
   "cell_type": "markdown",
   "metadata": {},
   "source": [
    "# Coding\n",
    "The first function is a complex one where the areas of each layer are separately calculated. When then input size is big the runtime is unacceptable."
   ]
  },
  {
   "cell_type": "code",
   "execution_count": 1,
   "metadata": {},
   "outputs": [],
   "source": [
    "def ithLayer(A,i):\n",
    "    H=len(A)\n",
    "    W=len(A[0])\n",
    "    ithlayer=[]\n",
    "    for j in range(H):\n",
    "        ithlayer.append([0]*W)\n",
    "    for j in range(H):\n",
    "        for k in range(W):\n",
    "            if A[j][k]-i>0:\n",
    "                ithlayer[j][k]=1\n",
    "    return ithlayer\n",
    "\n",
    "def Layers(A):\n",
    "    layers=[]\n",
    "    maxA=0\n",
    "    if type(A[0])==int:\n",
    "        A=[A]\n",
    "    for i in range(len(A)):\n",
    "        maxA=max(max(A[i]),maxA)\n",
    "    for i in range(maxA):\n",
    "        layers.append(ithLayer(A,i))\n",
    "    return layers\n",
    "\n",
    "def fill(i,j,L,flag):\n",
    "    #print(flag)\n",
    "    if L[i][j]>0:\n",
    "        #print('i=',i,'j=',j)\n",
    "        flag[i][j]=1\n",
    "        L[i][j]=0\n",
    "        if i+1<len(flag):\n",
    "            L,flag=fill(i+1,j,L,flag)\n",
    "        if j+1<len(flag[0]):\n",
    "            L,flag=fill(i,j+1,L,flag)\n",
    "        if i-1>=0:\n",
    "            L,flag=fill(i-1,j,L,flag)\n",
    "        if j-1>=0:\n",
    "            L,flag=fill(i,j-1,L,flag)\n",
    "    return L,flag\n",
    "\n",
    "def Sq(L,i,j):\n",
    "    W=len(L)\n",
    "    H=len(L[0])\n",
    "    flag=[]\n",
    "    for k in range(W):\n",
    "        flag.append([0]*H)\n",
    "    L,flag=fill(i,j,L,flag)\n",
    "    return L,flag\n",
    "\n",
    "def area(flag):\n",
    "    xRange=[len(flag),0]\n",
    "    yRange=[len(flag[0]),0]\n",
    "    for i in range(len(flag)):\n",
    "        for j in range(len(flag[0])):\n",
    "            if flag[i][j]>0:\n",
    "                xRange=[min(xRange[0],i),max(xRange[1],i)]\n",
    "                yRange=[min(yRange[0],j),max(yRange[1],j)]\n",
    "    area=(xRange[1]-xRange[0]+1)*2+(yRange[1]-yRange[0]+1)*2\n",
    "    #print(xRange)\n",
    "    #print(yRange)\n",
    "    return area\n",
    "\n",
    "def subSq(L):\n",
    "    W=len(L)\n",
    "    H=len(L[0])\n",
    "    ar=0\n",
    "    for i in range(W):\n",
    "        for j in range(H):\n",
    "            if L[i][j]:\n",
    "                L,flag=Sq(L,i,j)\n",
    "                #print('final L=',L,'flag=',flag)        \n",
    "                ar+=area(flag)\n",
    "    return ar\n",
    "\n",
    "def Areas(layers):\n",
    "    result=0\n",
    "    if len(layers)==1:\n",
    "        #print('temp layers: ',layers[0])\n",
    "        temp=subSq(layers[0])\n",
    "        result+=temp\n",
    "        #print('temp:',temp)\n",
    "    else:\n",
    "        #print('More Next!')\n",
    "        result=result+Areas([layers[0]])+Areas(layers[1:])\n",
    "    return result\n",
    "\n",
    "\n",
    "def surfaceArea(A):\n",
    "    bottom=0\n",
    "    for i in range(len(A)):\n",
    "        if type(A[0]==int):\n",
    "            if A[i]>0:\n",
    "                bottom+=1\n",
    "        else:\n",
    "            for j in range(len(A[0])):\n",
    "                if A[i][j]>0:\n",
    "                    bottom+=1\n",
    "    layers=Layers(A)\n",
    "    result=Areas(layers)+2*bottom\n",
    "    return result"
   ]
  },
  {
   "cell_type": "code",
   "execution_count": 2,
   "metadata": {},
   "outputs": [
    {
     "data": {
      "text/plain": [
       "1482"
      ]
     },
     "execution_count": 2,
     "metadata": {},
     "output_type": "execute_result"
    }
   ],
   "source": [
    "A=[51,32,28,49,28,21,98,56,99,77]\n",
    "surfaceArea(A)"
   ]
  },
  {
   "cell_type": "code",
   "execution_count": 3,
   "metadata": {},
   "outputs": [
    {
     "data": {
      "text/plain": [
       "6"
      ]
     },
     "execution_count": 3,
     "metadata": {},
     "output_type": "execute_result"
    }
   ],
   "source": [
    "A=[1]\n",
    "surfaceArea(A)"
   ]
  },
  {
   "cell_type": "markdown",
   "metadata": {},
   "source": [
    "This Function is more simple with much lower complexity. For each $A_{ij}$, the area around this coordinate would be directly calculated"
   ]
  },
  {
   "cell_type": "code",
   "execution_count": 4,
   "metadata": {},
   "outputs": [],
   "source": [
    "    for i in range(len(A)):\n",
    "        if type(A[0]==int):\n",
    "            if A[i]>0:\n",
    "                bottom+=1\n",
    "        else:\n",
    "            for j in range(len(A[0])):\n",
    "                if A[i][j]>0:\n",
    "                    bottom+=1\n",
    "    result=sides(A)+2*bottom\n",
    "    return result\n",
    "\n",
    "def sides(A):\n",
    "    if type(A[0])==int:\n",
    "        A=[A]\n",
    "    print(A)\n",
    "    sides=0\n",
    "    for i in range(len(A)):\n",
    "        for j in range(len(A[0])):\n",
    "            tempside=0\n",
    "            #left\n",
    "            if i-1<0:\n",
    "                tempside+=A[i][j]\n",
    "            elif A[i][j]>A[i-1][j]:\n",
    "                tempside+=A[i][j]-A[i-1][j]\n",
    "            #right\n",
    "            if i+1>=len(A):\n",
    "                tempside+=A[i][j]\n",
    "            elif A[i][j]>A[i+1][j]:\n",
    "                tempside+=A[i][j]-A[i+1][j]\n",
    "            #up\n",
    "            if j-1<0:\n",
    "                tempside+=A[i][j]\n",
    "            elif A[i][j]>A[i][j-1]:\n",
    "                tempside+=A[i][j]-A[i][j-1]\n",
    "            #right\n",
    "            if j+1>=len(A[0]):\n",
    "                tempside+=A[i][j]\n",
    "            elif A[i][j]>A[i][j+1]:\n",
    "                tempside+=A[i][j]-A[i][j+1]\n",
    "            sides+=tempside\n",
    "    return sides"
   ]
  },
  {
   "cell_type": "code",
   "execution_count": 5,
   "metadata": {},
   "outputs": [
    {
     "name": "stdout",
     "output_type": "stream",
     "text": [
      "[[51, 32, 28, 49, 28, 21, 98, 56, 99, 77]]\n"
     ]
    },
    {
     "data": {
      "text/plain": [
       "1482"
      ]
     },
     "execution_count": 5,
     "metadata": {},
     "output_type": "execute_result"
    }
   ],
   "source": [
    "A=[51,32,28,49,28,21,98,56,99,77]\n",
    "surfaceArea(A)"
   ]
  },
  {
   "cell_type": "code",
   "execution_count": 6,
   "metadata": {},
   "outputs": [
    {
     "name": "stdout",
     "output_type": "stream",
     "text": [
      "[[51, 32, 28, 49, 28, 21, 98, 56, 99, 77]]\n"
     ]
    },
    {
     "data": {
      "text/plain": [
       "1462"
      ]
     },
     "execution_count": 6,
     "metadata": {},
     "output_type": "execute_result"
    }
   ],
   "source": [
    "sides(A)"
   ]
  },
  {
   "cell_type": "code",
   "execution_count": null,
   "metadata": {},
   "outputs": [],
   "source": []
  }
 ],
 "metadata": {
  "kernelspec": {
   "display_name": "Python 3",
   "language": "python",
   "name": "python3"
  },
  "language_info": {
   "codemirror_mode": {
    "name": "ipython",
    "version": 3
   },
   "file_extension": ".py",
   "mimetype": "text/x-python",
   "name": "python",
   "nbconvert_exporter": "python",
   "pygments_lexer": "ipython3",
   "version": "3.7.1"
  }
 },
 "nbformat": 4,
 "nbformat_minor": 2
}
