{
 "cells": [
  {
   "cell_type": "markdown",
   "metadata": {},
   "source": [
    "# Absolute Permutation\n",
    "\n",
    "We define $P$ to be a permutation of the first $n$ natural numbers in the range $[1,n]$. Let $pos[i]$ denote the value at position $i$ in permutation $P$ using $1$-based indexing.\n",
    "\n",
    "$P$ is considered to be an absolute permutation if $|pos[i]-i|=k$ holds true for every $i\\in [1,n]$.\n",
    "\n",
    "Given n and k, print the lexicographically smallest absolute permutation $P$. If no absolute permutation exists, print -1.\n",
    "\n",
    "For example, let $n=4$ giving us an array $pos=[1,2,3,4]$. If we use $1$ based indexing, create a permutation where every $|pos[i]-i|=k$. If $k=2$, we could rearrange them to $[3,4,1,2]$:\n",
    "$$\n",
    "  \\begin{matrix}\n",
    "   pos[i]&i&|Difference|\\\\\n",
    "3 & 1 &\t2\\\\\n",
    "4 &\t2 &\t2\\\\\n",
    "1 &\t3 &\t2\\\\\n",
    "2 &\t4 &\t2\n",
    "  \\end{matrix} \n",
    "$$\n",
    "\n",
    "## Function Description\n",
    "\n",
    "Complete the absolutePermutation function in the editor below. It should return an integer that represents the smallest lexicographically smallest permutation, or $-1$ if there is none.\n",
    "\n",
    "absolutePermutation has the following parameter(s):\n",
    "\n",
    "- n: the upper bound of natural numbers to consider, inclusive\n",
    "- k: the integer difference between each element and its index"
   ]
  },
  {
   "cell_type": "code",
   "execution_count": 10,
   "metadata": {},
   "outputs": [],
   "source": [
    "def absolutePermutation(n, k):\n",
    "    result = []\n",
    "    if k==0: \n",
    "        result = list(range(1,n+1))\n",
    "    elif n%(2*k)==0:\n",
    "        loop = n//(2*k)\n",
    "        for i in range(loop):\n",
    "            result+=list(range(i*2*k+k+1,i*2*k+2*k+1))\n",
    "            result+=(list(range(i*2*k+1,i*2*k+k+1)))\n",
    "    else:\n",
    "        result=-1\n",
    "    return result\n",
    "                    "
   ]
  },
  {
   "cell_type": "code",
   "execution_count": 8,
   "metadata": {},
   "outputs": [
    {
     "data": {
      "text/plain": [
       "-1"
      ]
     },
     "execution_count": 8,
     "metadata": {},
     "output_type": "execute_result"
    }
   ],
   "source": [
    "n=3\n",
    "k=2\n",
    "absolutePermutation(n, k)"
   ]
  },
  {
   "cell_type": "code",
   "execution_count": 9,
   "metadata": {},
   "outputs": [
    {
     "data": {
      "text/plain": [
       "[2, 1]"
      ]
     },
     "execution_count": 9,
     "metadata": {},
     "output_type": "execute_result"
    }
   ],
   "source": [
    "n=2\n",
    "k=1\n",
    "absolutePermutation(n, k)"
   ]
  },
  {
   "cell_type": "code",
   "execution_count": 13,
   "metadata": {},
   "outputs": [
    {
     "data": {
      "text/plain": [
       "[3,\n",
       " 4,\n",
       " 1,\n",
       " 2,\n",
       " 7,\n",
       " 8,\n",
       " 5,\n",
       " 6,\n",
       " 11,\n",
       " 12,\n",
       " 9,\n",
       " 10,\n",
       " 15,\n",
       " 16,\n",
       " 13,\n",
       " 14,\n",
       " 19,\n",
       " 20,\n",
       " 17,\n",
       " 18,\n",
       " 23,\n",
       " 24,\n",
       " 21,\n",
       " 22,\n",
       " 27,\n",
       " 28,\n",
       " 25,\n",
       " 26,\n",
       " 31,\n",
       " 32,\n",
       " 29,\n",
       " 30,\n",
       " 35,\n",
       " 36,\n",
       " 33,\n",
       " 34,\n",
       " 39,\n",
       " 40,\n",
       " 37,\n",
       " 38,\n",
       " 43,\n",
       " 44,\n",
       " 41,\n",
       " 42,\n",
       " 47,\n",
       " 48,\n",
       " 45,\n",
       " 46,\n",
       " 51,\n",
       " 52,\n",
       " 49,\n",
       " 50,\n",
       " 55,\n",
       " 56,\n",
       " 53,\n",
       " 54,\n",
       " 59,\n",
       " 60,\n",
       " 57,\n",
       " 58,\n",
       " 63,\n",
       " 64,\n",
       " 61,\n",
       " 62,\n",
       " 67,\n",
       " 68,\n",
       " 65,\n",
       " 66,\n",
       " 71,\n",
       " 72,\n",
       " 69,\n",
       " 70,\n",
       " 75,\n",
       " 76,\n",
       " 73,\n",
       " 74,\n",
       " 79,\n",
       " 80,\n",
       " 77,\n",
       " 78,\n",
       " 83,\n",
       " 84,\n",
       " 81,\n",
       " 82,\n",
       " 87,\n",
       " 88,\n",
       " 85,\n",
       " 86,\n",
       " 91,\n",
       " 92,\n",
       " 89,\n",
       " 90,\n",
       " 95,\n",
       " 96,\n",
       " 93,\n",
       " 94,\n",
       " 99,\n",
       " 100,\n",
       " 97,\n",
       " 98]"
      ]
     },
     "execution_count": 13,
     "metadata": {},
     "output_type": "execute_result"
    }
   ],
   "source": [
    "n=100\n",
    "k=2\n",
    "absolutePermutation(n, k)"
   ]
  },
  {
   "cell_type": "code",
   "execution_count": null,
   "metadata": {},
   "outputs": [],
   "source": []
  }
 ],
 "metadata": {
  "kernelspec": {
   "display_name": "Python 3",
   "language": "python",
   "name": "python3"
  },
  "language_info": {
   "codemirror_mode": {
    "name": "ipython",
    "version": 3
   },
   "file_extension": ".py",
   "mimetype": "text/x-python",
   "name": "python",
   "nbconvert_exporter": "python",
   "pygments_lexer": "ipython3",
   "version": "3.7.1"
  }
 },
 "nbformat": 4,
 "nbformat_minor": 2
}
