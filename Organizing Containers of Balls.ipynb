{
 "cells": [
  {
   "cell_type": "markdown",
   "metadata": {},
   "source": [
    "# Organizing Containers of Balls\n",
    "\n",
    "David has several containers, each with a number of balls in it. He has just enough containers to sort each type of ball he has into its own container. David wants to sort the balls using his sort method.\n",
    "\n",
    "As an example, David has $n=2$ containers and 2 different types of balls, both of which are numbered from 0 to $n-1=1$. The distribution of ball types per container are described by an $n \\times n$ matrix of integers,$M[container][type]$ . For example, consider the following diagram for $M=[[1,4],[2,3]]$ :"
   ]
  },
  {
   "cell_type": "markdown",
   "metadata": {},
   "source": [
    "![Organizing Containers of Balls](C1.png)\n",
    "\n",
    "In a single operation, David can swap two balls located in different containers.\n",
    "\n",
    "The diagram below depicts a single swap operation:\n",
    "\n",
    "![Organizing Containers of Balls](C2.png)\n",
    "\n",
    "- Each container contains only balls of the same type.\n",
    "- No two balls of the same type are located in different containers.\n",
    "\n",
    "You must perform $q$ queries where each query is in the form of a matrix, $M$. For each query, print Possible on a new line if David can satisfy the conditions above for the given matrix. Otherwise, print Impossible.\n",
    "\n",
    "## Function Description\n",
    "\n",
    "Complete the organizingContainers function in the editor below. It should return a string, either Possible or Impossible.\n",
    "\n",
    "organizingContainers has the following parameter(s):\n",
    "\n",
    "containter: a two dimensional array of integers that represent the number of balls of each color in each container\n",
    "Input Format\n",
    "\n",
    "The first line contains an integer $q$, the number of queries.\n",
    "\n",
    "Each of the next $n$ sets of lines is as follows:\n",
    "\n",
    "The first line contains an integer , the number of containers (rows) and ball types (columns).\n",
    "Each of the next  lines contains  space-separated integers describing row ."
   ]
  },
  {
   "cell_type": "code",
   "execution_count": 23,
   "metadata": {},
   "outputs": [],
   "source": [
    "def organizingContainers(container):\n",
    "    C_sum=[]\n",
    "    T_sum=[]\n",
    "    for i in range(len(container)):\n",
    "        C_sum.append(sum(container[i]))\n",
    "    for i in range(len(list(zip(*a)))):\n",
    "        T_sum.append(sum(list(zip(*container))[i]))\n",
    "    print(C_sum,T_sum)\n",
    "    result=True\n",
    "    for i in range\n",
    "    "
   ]
  },
  {
   "cell_type": "code",
   "execution_count": 39,
   "metadata": {},
   "outputs": [],
   "source": [
    "def organizingContainers(container):\n",
    "    result = \"Possible\"\n",
    "    for i in range(len(container)):\n",
    "        if not sum(container[i])==sum(list(zip(*container))[i]):\n",
    "            result=\"Impossible\"\n",
    "            print(i,'th, container=',sum(container[i]),', balls=',sum(list(zip(*container))[i]))\n",
    "            break\n",
    "    return result"
   ]
  },
  {
   "cell_type": "code",
   "execution_count": 92,
   "metadata": {},
   "outputs": [],
   "source": [
    "def organizingContainers(container):\n",
    "    result = \"Possible\"\n",
    "    cs=[]\n",
    "    bs=[]\n",
    "    for i in range(len(container)):\n",
    "        cs.append(sum(container[i]))\n",
    "        bs.append(sum(list(zip(*container))[i]))\n",
    "    cs.sort()\n",
    "    bs.sort()\n",
    "    for i in range(len(cs)):\n",
    "        if not cs[i]==bs[i]:\n",
    "            result=\"Impossible\"\n",
    "            break\n",
    "    return result"
   ]
  },
  {
   "cell_type": "code",
   "execution_count": 93,
   "metadata": {
    "scrolled": true
   },
   "outputs": [
    {
     "data": {
      "text/plain": [
       "'Possible'"
      ]
     },
     "execution_count": 93,
     "metadata": {},
     "output_type": "execute_result"
    }
   ],
   "source": [
    "a=[[999336263,998799923],\n",
    "   [998799923,999763019]]\n",
    "organizingContainers(a)"
   ]
  },
  {
   "cell_type": "code",
   "execution_count": 94,
   "metadata": {},
   "outputs": [
    {
     "data": {
      "text/plain": [
       "'Possible'"
      ]
     },
     "execution_count": 94,
     "metadata": {},
     "output_type": "execute_result"
    }
   ],
   "source": [
    "a=[[997612619,934920795,998879231,999926463],\n",
    "   [960369681,997828120,999792735,979622676],\n",
    "   [999013654,998634077,997988323,958769423],\n",
    "   [997409523,999301350,940952923,993020546]]\n",
    "organizingContainers(a)"
   ]
  },
  {
   "cell_type": "code",
   "execution_count": 95,
   "metadata": {
    "scrolled": true
   },
   "outputs": [
    {
     "data": {
      "text/plain": [
       "'Impossible'"
      ]
     },
     "execution_count": 95,
     "metadata": {},
     "output_type": "execute_result"
    }
   ],
   "source": [
    "a=[[46243313,92616295,67710591,64815435,54972858,72243452,43981963,98839842],\n",
    "   [92051933,89794374,13448199,23493279,82268795,11069706,82550576,19654929],\n",
    "   [81743395,56456242,80407875,99464396,95594850,44919631,12483256,54576390],\n",
    "   [31379865,35550507,13850344,82310457,35039216,11977132,44906966,58819635],\n",
    "   [10544893, 81324309, 69520528, 81983330, 45347555, 78383273, 77715274 ,86346533],\n",
    "   [78482611, 37125744, 47756688, 70062813, 86629089, 81735741, 38208033 ,80479682],\n",
    "   [59164275, 5441347, 85517562, 78736923, 59124243, 51404960, 24474089, 27179427],\n",
    "   [48097170, 61680833, 13467922, 1371525, 59776803, 85694885, 96662368, 52983154]]\n",
    "organizingContainers(a)"
   ]
  },
  {
   "cell_type": "code",
   "execution_count": 96,
   "metadata": {},
   "outputs": [
    {
     "data": {
      "text/plain": [
       "'Impossible'"
      ]
     },
     "execution_count": 96,
     "metadata": {},
     "output_type": "execute_result"
    }
   ],
   "source": [
    "a=[[95191218,87409555,42950393,42038751,84631134,48464787,59894151,72209295],\n",
    "[10208942,40165003,24468583,74313769,78553469,12298347,92465316,98013853],\n",
    "[11962063,97319173,32772008,57537234,47515651,96327283,13026475,6272697],\n",
    "[15196842,74022651,40230895,29947691,22917615,13671399,53857449,59913669],\n",
    "[12346213,63160025,19794975,11420503,11101182,7020704,99262506,99345314],\n",
    "[63048552,59405595,80841813,57114539,698590,30758610,35361024,19021664],\n",
    "[48021465,59401215,33812089,32481698,38580652,37607783,66478344,64808679],\n",
    "[21875586,87926772,98872000,19211740,76777430,661772,86446637,49124189]]\n",
    "organizingContainers(a)"
   ]
  }
 ],
 "metadata": {
  "kernelspec": {
   "display_name": "Python 3",
   "language": "python",
   "name": "python3"
  },
  "language_info": {
   "codemirror_mode": {
    "name": "ipython",
    "version": 3
   },
   "file_extension": ".py",
   "mimetype": "text/x-python",
   "name": "python",
   "nbconvert_exporter": "python",
   "pygments_lexer": "ipython3",
   "version": "3.7.1"
  }
 },
 "nbformat": 4,
 "nbformat_minor": 2
}
